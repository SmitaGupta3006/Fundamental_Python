{
 "cells": [
  {
   "cell_type": "code",
   "execution_count": 4,
   "metadata": {},
   "outputs": [
    {
     "name": "stdout",
     "output_type": "stream",
     "text": [
      "amitabh bachchan\n",
      "Amitabh Bachchan\n",
      "AMITABH BACHCHAN\n",
      "amitabh bachchan\n"
     ]
    }
   ],
   "source": [
    "# Built-in Functions of a String\n",
    "\n",
    "name = 'amitabh bachchan'\n",
    "\n",
    "print(name)\n",
    "print(name.title()) #converts 1st letter of every word to capital\n",
    "print(name.upper()) #convert all words to uppercase\n",
    "print(name.lower()) #convert all words to lowercase"
   ]
  },
  {
   "cell_type": "code",
   "execution_count": 2,
   "metadata": {},
   "outputs": [
    {
     "name": "stdout",
     "output_type": "stream",
     "text": [
      "Tim cook\n"
     ]
    }
   ],
   "source": [
    "# Dynamic Allocation\n",
    "\n",
    "first_name = 'Tim'\n",
    "last_name = 'cook'\n",
    "full_name = f\"{first_name} {last_name}\"\n",
    "print (full_name)"
   ]
  },
  {
   "cell_type": "code",
   "execution_count": 7,
   "metadata": {},
   "outputs": [
    {
     "name": "stdout",
     "output_type": "stream",
     "text": [
      "python\n",
      " python\n",
      "\tpython\n"
     ]
    }
   ],
   "source": [
    "# Adding white space to string with tab/newline\n",
    "\n",
    "print('python')\n",
    "print(' python')\n",
    "print('\\tpython')  #\\t-->tab space"
   ]
  },
  {
   "cell_type": "code",
   "execution_count": 9,
   "metadata": {},
   "outputs": [
    {
     "name": "stdout",
     "output_type": "stream",
     "text": [
      "languages:\n",
      "python\n",
      "c\n",
      "java\n",
      "c++\n",
      "ML\n"
     ]
    }
   ],
   "source": [
    "# \\n-->Adding a new line\n",
    "\n",
    "print(\"languages:\\npython\\nc\\njava\\nc++\\nML\")"
   ]
  },
  {
   "cell_type": "code",
   "execution_count": null,
   "metadata": {},
   "outputs": [],
   "source": []
  }
 ],
 "metadata": {
  "kernelspec": {
   "display_name": "Python 3",
   "language": "python",
   "name": "python3"
  },
  "language_info": {
   "codemirror_mode": {
    "name": "ipython",
    "version": 3
   },
   "file_extension": ".py",
   "mimetype": "text/x-python",
   "name": "python",
   "nbconvert_exporter": "python",
   "pygments_lexer": "ipython3",
   "version": "3.7.3"
  }
 },
 "nbformat": 4,
 "nbformat_minor": 2
}
