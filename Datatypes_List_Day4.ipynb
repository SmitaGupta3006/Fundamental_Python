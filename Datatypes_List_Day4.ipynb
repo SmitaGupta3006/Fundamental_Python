{
 "cells": [
  {
   "cell_type": "code",
   "execution_count": null,
   "metadata": {},
   "outputs": [],
   "source": [
    "# List = collection of particular item in an order\n",
    "# Mutable datatype"
   ]
  },
  {
   "cell_type": "code",
   "execution_count": 1,
   "metadata": {},
   "outputs": [
    {
     "name": "stdout",
     "output_type": "stream",
     "text": [
      "['hero', 'atlas', 'ladybird', 'ranger']\n"
     ]
    }
   ],
   "source": [
    "bicycle = ['hero', 'atlas', 'ladybird', 'ranger']\n",
    "print(bicycle)"
   ]
  },
  {
   "cell_type": "code",
   "execution_count": 3,
   "metadata": {},
   "outputs": [
    {
     "name": "stdout",
     "output_type": "stream",
     "text": [
      "atlas\n",
      "ranger\n",
      "ranger\n"
     ]
    }
   ],
   "source": [
    "# How to access elements in a list\n",
    "print(bicycle[1])\n",
    "print(bicycle[3])\n",
    "print(bicycle[-1])"
   ]
  },
  {
   "cell_type": "code",
   "execution_count": 7,
   "metadata": {},
   "outputs": [
    {
     "name": "stdout",
     "output_type": "stream",
     "text": [
      "Hero\n"
     ]
    }
   ],
   "source": [
    "print(bicycle[0].title())"
   ]
  },
  {
   "cell_type": "code",
   "execution_count": 13,
   "metadata": {},
   "outputs": [
    {
     "name": "stdout",
     "output_type": "stream",
     "text": [
      "my first bicycle was a Atlas.\n"
     ]
    }
   ],
   "source": [
    "bicycle = ['hero', 'atlas', 'ladybird', 'ranger']\n",
    "message = f\"my first bicycle was a {bicycle[1].title()}.\"\n",
    "print(message)"
   ]
  },
  {
   "cell_type": "code",
   "execution_count": 14,
   "metadata": {},
   "outputs": [
    {
     "name": "stdout",
     "output_type": "stream",
     "text": [
      "['honda', 'yamaha', 'hero']\n"
     ]
    }
   ],
   "source": [
    "# Modifying elements in a list\n",
    "\n",
    "bike = ['honda', 'yamaha', 'hero']\n",
    "print(bike)"
   ]
  },
  {
   "cell_type": "code",
   "execution_count": 15,
   "metadata": {},
   "outputs": [
    {
     "name": "stdout",
     "output_type": "stream",
     "text": [
      "['harley', 'yamaha', 'hero']\n"
     ]
    }
   ],
   "source": [
    "bike[0] = 'harley'\n",
    "print(bike)"
   ]
  },
  {
   "cell_type": "code",
   "execution_count": null,
   "metadata": {},
   "outputs": [],
   "source": []
  }
 ],
 "metadata": {
  "kernelspec": {
   "display_name": "Python 3",
   "language": "python",
   "name": "python3"
  },
  "language_info": {
   "codemirror_mode": {
    "name": "ipython",
    "version": 3
   },
   "file_extension": ".py",
   "mimetype": "text/x-python",
   "name": "python",
   "nbconvert_exporter": "python",
   "pygments_lexer": "ipython3",
   "version": "3.7.3"
  }
 },
 "nbformat": 4,
 "nbformat_minor": 2
}
