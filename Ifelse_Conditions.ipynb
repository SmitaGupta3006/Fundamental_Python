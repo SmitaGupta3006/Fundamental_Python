{
 "cells": [
  {
   "cell_type": "code",
   "execution_count": 1,
   "metadata": {},
   "outputs": [
    {
     "data": {
      "text/plain": [
       "True"
      ]
     },
     "execution_count": 1,
     "metadata": {},
     "output_type": "execute_result"
    }
   ],
   "source": [
    "# Scenario of IN\n",
    "\n",
    "req_toppings = ['mushroom', 'onion', 'olive']\n",
    "'mushroom' in req_toppings"
   ]
  },
  {
   "cell_type": "code",
   "execution_count": 2,
   "metadata": {},
   "outputs": [
    {
     "data": {
      "text/plain": [
       "False"
      ]
     },
     "execution_count": 2,
     "metadata": {},
     "output_type": "execute_result"
    }
   ],
   "source": [
    "'chicken' in req_toppings"
   ]
  },
  {
   "cell_type": "code",
   "execution_count": 7,
   "metadata": {},
   "outputs": [
    {
     "name": "stdout",
     "output_type": "stream",
     "text": [
      "Shekhar, you can text him.\n"
     ]
    }
   ],
   "source": [
    "# Scenario of NOT IN\n",
    "\n",
    "banned_users = ['andrew', 'john', 'tim', 'charles']\n",
    "user = 'Shekhar'\n",
    "\n",
    "if user not in banned_users:\n",
    "    print(f\"{user.title()}, you can text him.\" )"
   ]
  },
  {
   "cell_type": "code",
   "execution_count": 12,
   "metadata": {},
   "outputs": [
    {
     "name": "stdout",
     "output_type": "stream",
     "text": [
      "eligible to vote.\n"
     ]
    }
   ],
   "source": [
    "age = 21\n",
    "\n",
    "if(age >= 18):\n",
    "    print(f\"eligible to vote.\")\n",
    "else:\n",
    "    print(f\"not eligible to vote.\")"
   ]
  },
  {
   "cell_type": "code",
   "execution_count": 14,
   "metadata": {},
   "outputs": [
    {
     "name": "stdout",
     "output_type": "stream",
     "text": [
      "phone gets unlocked..\n"
     ]
    }
   ],
   "source": [
    "password = 12345\n",
    "\n",
    "if(password == 12345):\n",
    "    print(f\"phone gets unlocked..\")\n",
    "else:\n",
    "    print(f\"invalid password, try again!\")"
   ]
  },
  {
   "cell_type": "code",
   "execution_count": null,
   "metadata": {},
   "outputs": [],
   "source": []
  }
 ],
 "metadata": {
  "kernelspec": {
   "display_name": "Python 3",
   "language": "python",
   "name": "python3"
  },
  "language_info": {
   "codemirror_mode": {
    "name": "ipython",
    "version": 3
   },
   "file_extension": ".py",
   "mimetype": "text/x-python",
   "name": "python",
   "nbconvert_exporter": "python",
   "pygments_lexer": "ipython3",
   "version": "3.7.3"
  }
 },
 "nbformat": 4,
 "nbformat_minor": 2
}
