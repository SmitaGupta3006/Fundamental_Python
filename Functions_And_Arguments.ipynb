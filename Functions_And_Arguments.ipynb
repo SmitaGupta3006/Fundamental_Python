{
 "cells": [
  {
   "cell_type": "code",
   "execution_count": 1,
   "metadata": {},
   "outputs": [],
   "source": [
    "def greet_user():\n",
    "    \"\"\"Display a simple greeting\"\"\"     #Doc-string\n",
    "    print(\"Hello\")"
   ]
  },
  {
   "cell_type": "code",
   "execution_count": 2,
   "metadata": {},
   "outputs": [
    {
     "name": "stdout",
     "output_type": "stream",
     "text": [
      "Hello\n"
     ]
    }
   ],
   "source": [
    "greet_user()    #Calling a function"
   ]
  },
  {
   "cell_type": "code",
   "execution_count": 3,
   "metadata": {},
   "outputs": [],
   "source": [
    "# Passing information to function:"
   ]
  },
  {
   "cell_type": "code",
   "execution_count": 11,
   "metadata": {},
   "outputs": [],
   "source": [
    "def greet_user(username):     # ----> Parameter passing\n",
    "    \"\"\"Display a simple wishes to the user\"\"\"\n",
    "    print(f\"Hello, {username.title()}!\")"
   ]
  },
  {
   "cell_type": "code",
   "execution_count": 12,
   "metadata": {},
   "outputs": [
    {
     "name": "stdout",
     "output_type": "stream",
     "text": [
      "Hello, Divya!\n"
     ]
    }
   ],
   "source": [
    "greet_user('divya')    # ------> Argument passing"
   ]
  },
  {
   "cell_type": "code",
   "execution_count": 13,
   "metadata": {},
   "outputs": [
    {
     "name": "stdout",
     "output_type": "stream",
     "text": [
      "Hello, Smita!\n"
     ]
    }
   ],
   "source": [
    "greet_user('smita')"
   ]
  },
  {
   "cell_type": "code",
   "execution_count": 14,
   "metadata": {},
   "outputs": [],
   "source": [
    "# Types of arguments\n",
    "# a) Positional Arguments\n",
    "# b) Keyword Arguments"
   ]
  },
  {
   "cell_type": "code",
   "execution_count": 18,
   "metadata": {},
   "outputs": [],
   "source": [
    "def describe_animal(animal_type, animal_name):\n",
    "    \"\"\"Display information about an animal\"\"\"\n",
    "    print(f\"\\nI have a {animal_type}\")\n",
    "    print(f\"my {animal_type}'s name is {animal_name}\")"
   ]
  },
  {
   "cell_type": "code",
   "execution_count": 19,
   "metadata": {},
   "outputs": [
    {
     "name": "stdout",
     "output_type": "stream",
     "text": [
      "\n",
      "I have a parrot\n",
      "my parrot's name is tweety\n"
     ]
    }
   ],
   "source": [
    "describe_animal('parrot', 'tweety')"
   ]
  },
  {
   "cell_type": "code",
   "execution_count": 20,
   "metadata": {},
   "outputs": [
    {
     "name": "stdout",
     "output_type": "stream",
     "text": [
      "\n",
      "I have a cat\n",
      "my cat's name is tom\n"
     ]
    }
   ],
   "source": [
    "describe_animal('cat', 'tom')"
   ]
  },
  {
   "cell_type": "code",
   "execution_count": 21,
   "metadata": {},
   "outputs": [],
   "source": [
    "# Positional Arguments: we need to maintain the exact order"
   ]
  },
  {
   "cell_type": "code",
   "execution_count": 22,
   "metadata": {},
   "outputs": [
    {
     "name": "stdout",
     "output_type": "stream",
     "text": [
      "\n",
      "I have a dog\n",
      "my dog's name is shera\n"
     ]
    }
   ],
   "source": [
    "describe_animal(animal_type='dog', animal_name='shera')"
   ]
  },
  {
   "cell_type": "code",
   "execution_count": 23,
   "metadata": {},
   "outputs": [
    {
     "name": "stdout",
     "output_type": "stream",
     "text": [
      "\n",
      "I have a dog\n",
      "my dog's name is bruno\n"
     ]
    }
   ],
   "source": [
    "describe_animal(animal_name='bruno', animal_type='dog')"
   ]
  },
  {
   "cell_type": "code",
   "execution_count": 24,
   "metadata": {},
   "outputs": [],
   "source": [
    "# Keyword Arguments: order doesn't matter "
   ]
  },
  {
   "cell_type": "code",
   "execution_count": 29,
   "metadata": {},
   "outputs": [],
   "source": [
    "#Maintaining DEFAULT VALUES\n",
    "# Default values come in the end while defining the function\n",
    "\n",
    "def describe_animal(animal_name, animal_type = 'dog'):\n",
    "    \"\"\"Display information about an animal\"\"\"\n",
    "    print(f\"\\nI have a {animal_type}\")\n",
    "    print(f\"my {animal_type}'s name is {animal_name}\")"
   ]
  },
  {
   "cell_type": "code",
   "execution_count": 30,
   "metadata": {},
   "outputs": [
    {
     "name": "stdout",
     "output_type": "stream",
     "text": [
      "\n",
      "I have a dog\n",
      "my dog's name is scooby\n"
     ]
    }
   ],
   "source": [
    "describe_animal('scooby')"
   ]
  },
  {
   "cell_type": "code",
   "execution_count": 31,
   "metadata": {},
   "outputs": [
    {
     "name": "stdout",
     "output_type": "stream",
     "text": [
      "\n",
      "I have a cat\n",
      "my cat's name is snowy\n"
     ]
    }
   ],
   "source": [
    "# Default values can be changed\n",
    "describe_animal('snowy', animal_type='cat')"
   ]
  },
  {
   "cell_type": "code",
   "execution_count": null,
   "metadata": {},
   "outputs": [],
   "source": []
  }
 ],
 "metadata": {
  "kernelspec": {
   "display_name": "Python 3",
   "language": "python",
   "name": "python3"
  },
  "language_info": {
   "codemirror_mode": {
    "name": "ipython",
    "version": 3
   },
   "file_extension": ".py",
   "mimetype": "text/x-python",
   "name": "python",
   "nbconvert_exporter": "python",
   "pygments_lexer": "ipython3",
   "version": "3.7.3"
  }
 },
 "nbformat": 4,
 "nbformat_minor": 2
}
