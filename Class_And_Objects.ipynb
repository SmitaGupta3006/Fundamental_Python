{
 "cells": [
  {
   "cell_type": "code",
   "execution_count": 1,
   "metadata": {},
   "outputs": [],
   "source": [
    "# Object Oriented Concepts\n",
    "# Define a CLASS ---> By using keyword class\n",
    "# Declare a class name ---> Title case\n",
    "\n",
    "# Create an object/instance\n",
    "\n",
    "# Functions declared in a class are called METHODS. \n",
    "# Whenever we decalre amethod in class, we need to pass 'self' to the method"
   ]
  },
  {
   "cell_type": "code",
   "execution_count": 8,
   "metadata": {},
   "outputs": [],
   "source": [
    "class Greetings():\n",
    "    def greet_user(self):\n",
    "        print(\"Good Morning!\")\n",
    "        \n",
    "    def check_user(self):\n",
    "        print(\"How can I help you?\")\n",
    "        \n",
    "    def add_to_cart(self):\n",
    "        print(\"items added to the cart and ready for payment\")\n",
    "        \n",
    "xyz = Greetings()    # Instantiation/Creation of an object \n",
    "\n",
    "sri = Greetings()"
   ]
  },
  {
   "cell_type": "code",
   "execution_count": 5,
   "metadata": {},
   "outputs": [
    {
     "name": "stdout",
     "output_type": "stream",
     "text": [
      "Good Morning!\n"
     ]
    }
   ],
   "source": [
    "xyz.greet_user()"
   ]
  },
  {
   "cell_type": "code",
   "execution_count": 6,
   "metadata": {},
   "outputs": [
    {
     "name": "stdout",
     "output_type": "stream",
     "text": [
      "How can I help you?\n"
     ]
    }
   ],
   "source": [
    "xyz.check_user()"
   ]
  },
  {
   "cell_type": "code",
   "execution_count": 7,
   "metadata": {},
   "outputs": [
    {
     "name": "stdout",
     "output_type": "stream",
     "text": [
      "items added to the cart and ready for payment\n"
     ]
    }
   ],
   "source": [
    "xyz.add_to_cart()"
   ]
  },
  {
   "cell_type": "code",
   "execution_count": 9,
   "metadata": {},
   "outputs": [
    {
     "name": "stdout",
     "output_type": "stream",
     "text": [
      "Good Morning!\n"
     ]
    }
   ],
   "source": [
    "sri.greet_user()"
   ]
  },
  {
   "cell_type": "code",
   "execution_count": null,
   "metadata": {},
   "outputs": [],
   "source": []
  }
 ],
 "metadata": {
  "kernelspec": {
   "display_name": "Python 3",
   "language": "python",
   "name": "python3"
  },
  "language_info": {
   "codemirror_mode": {
    "name": "ipython",
    "version": 3
   },
   "file_extension": ".py",
   "mimetype": "text/x-python",
   "name": "python",
   "nbconvert_exporter": "python",
   "pygments_lexer": "ipython3",
   "version": "3.7.3"
  }
 },
 "nbformat": 4,
 "nbformat_minor": 2
}
