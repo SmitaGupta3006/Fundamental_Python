{
 "cells": [
  {
   "cell_type": "code",
   "execution_count": 14,
   "metadata": {},
   "outputs": [
    {
     "name": "stdout",
     "output_type": "stream",
     "text": [
      "['Monday', 'Tuesday', 'Wednesday', 'Thursday']\n"
     ]
    }
   ],
   "source": [
    "weekday = ['Monday', 'Tuesday', 'Wednesday', 'Thursday']\n",
    "print(weekday)"
   ]
  },
  {
   "cell_type": "code",
   "execution_count": 12,
   "metadata": {},
   "outputs": [
    {
     "name": "stdout",
     "output_type": "stream",
     "text": [
      "['Friday', 'Tuesday', 'Wednesday', 'Thursday']\n"
     ]
    }
   ],
   "source": [
    "# Change an element\n",
    "\n",
    "weekday[0] = 'Friday'\n",
    "print(weekday)"
   ]
  },
  {
   "cell_type": "code",
   "execution_count": 15,
   "metadata": {},
   "outputs": [
    {
     "name": "stdout",
     "output_type": "stream",
     "text": [
      "['Monday', 'Tuesday', 'Wednesday', 'Thursday', 'Sunday']\n"
     ]
    }
   ],
   "source": [
    "# Add an element\n",
    "\n",
    "weekday.append('Sunday')\n",
    "print(weekday)"
   ]
  },
  {
   "cell_type": "code",
   "execution_count": 16,
   "metadata": {},
   "outputs": [
    {
     "name": "stdout",
     "output_type": "stream",
     "text": [
      "['Monday', 'Saturday', 'Tuesday', 'Wednesday', 'Thursday', 'Sunday']\n"
     ]
    }
   ],
   "source": [
    "# Adding element to an index\n",
    "\n",
    "weekday.insert(1,'Saturday')\n",
    "print(weekday)"
   ]
  },
  {
   "cell_type": "code",
   "execution_count": 18,
   "metadata": {},
   "outputs": [
    {
     "name": "stdout",
     "output_type": "stream",
     "text": [
      "['Banana', 'Apple', 'Pineapple', 'Grapes', 'Mango']\n"
     ]
    }
   ],
   "source": [
    "# Adding elements to an empty list\n",
    "\n",
    "fruits = []\n",
    "\n",
    "fruits.append('Banana')\n",
    "fruits.append('Apple')\n",
    "fruits.append('Pineapple')\n",
    "fruits.append('Grapes')\n",
    "fruits.append('Mango')\n",
    "              \n",
    "print(fruits)"
   ]
  },
  {
   "cell_type": "code",
   "execution_count": 19,
   "metadata": {},
   "outputs": [
    {
     "name": "stdout",
     "output_type": "stream",
     "text": [
      "['Banana', 'Apple', 'Grapes', 'Mango']\n"
     ]
    }
   ],
   "source": [
    "# Removing an element (Delete & Pop)\n",
    "\n",
    "del fruits[2]\n",
    "print(fruits)\n",
    "\n",
    "#pop do not delete element permanently but delete do\n",
    "#pop will create a separate list of deleted items"
   ]
  },
  {
   "cell_type": "code",
   "execution_count": 27,
   "metadata": {},
   "outputs": [
    {
     "name": "stdout",
     "output_type": "stream",
     "text": [
      "['porsche', 'lamborgini', 'mercedes', 'bmw']\n"
     ]
    }
   ],
   "source": [
    "Car = ['porsche', 'lamborgini', 'mercedes', 'bmw']\n",
    "print(Car)"
   ]
  },
  {
   "cell_type": "code",
   "execution_count": 28,
   "metadata": {},
   "outputs": [
    {
     "name": "stdout",
     "output_type": "stream",
     "text": [
      "['porsche', 'lamborgini', 'mercedes']\n",
      "bmw\n"
     ]
    }
   ],
   "source": [
    "poped_Car = Car.pop()\n",
    "\n",
    "print(Car)\n",
    "\n",
    "print(poped_Car)"
   ]
  },
  {
   "cell_type": "code",
   "execution_count": null,
   "metadata": {},
   "outputs": [],
   "source": []
  }
 ],
 "metadata": {
  "kernelspec": {
   "display_name": "Python 3",
   "language": "python",
   "name": "python3"
  },
  "language_info": {
   "codemirror_mode": {
    "name": "ipython",
    "version": 3
   },
   "file_extension": ".py",
   "mimetype": "text/x-python",
   "name": "python",
   "nbconvert_exporter": "python",
   "pygments_lexer": "ipython3",
   "version": "3.7.3"
  }
 },
 "nbformat": 4,
 "nbformat_minor": 2
}
